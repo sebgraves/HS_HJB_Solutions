{
 "cells": [
  {
   "cell_type": "markdown",
   "metadata": {},
   "source": [
    "# Solving HJB equation (24) in HS_notes_53"
   ]
  },
  {
   "cell_type": "code",
   "execution_count": 2,
   "metadata": {
    "collapsed": true
   },
   "outputs": [],
   "source": [
    "import numpy as np\n",
    "import matplotlib.pyplot as plt\n",
    "from sympy.matrices import *\n",
    "from sympy.solvers import solve\n",
    "from sympy import Symbol\n",
    "import scipy\n",
    "from scipy.optimize import minimize\n",
    "%matplotlib inline"
   ]
  },
  {
   "cell_type": "markdown",
   "metadata": {},
   "source": [
    "### 7.1 Parametric Inputs\n",
    "\n",
    "The VAR estimates imply:\n",
    "$$\\hat \\alpha_y = 0.386, \\hat \\alpha_z = 0, \\hat \\beta = 1, \\hat \\kappa = 0.019, \\sigma_y = \\begin{bmatrix} 0.488 \\\\ 0\\end{bmatrix}, \\sigma_z = \\begin{bmatrix} 0.013 \\\\ 0.028\\end{bmatrix}  $$\n",
    "We assume that $\\delta = 0.002$\n",
    "\n",
    "Let $\\sigma = \\begin{bmatrix} \\sigma_y' \\\\ \\sigma_z' \\end{bmatrix}$"
   ]
  },
  {
   "cell_type": "code",
   "execution_count": 3,
   "metadata": {
    "collapsed": false
   },
   "outputs": [],
   "source": [
    "# Input parameter values\n",
    "alpha_y = 0.386\n",
    "alpha_z = 0\n",
    "beta = 1\n",
    "kappa = 0.019\n",
    "sigma_y = np.array([[0.488],[0]])\n",
    "sigma_z = np.array([[0.013],[0.028]])\n",
    "delta = 0.002\n",
    "sigma = np.vstack((sigma_y.T,sigma_z.T))"
   ]
  },
  {
   "cell_type": "markdown",
   "metadata": {},
   "source": [
    "We also need to choose a value for q and $\\theta$:"
   ]
  },
  {
   "cell_type": "code",
   "execution_count": 4,
   "metadata": {
    "collapsed": true
   },
   "outputs": [],
   "source": [
    "q = 0.05\n",
    "theta = 0.5"
   ]
  },
  {
   "cell_type": "markdown",
   "metadata": {
    "collapsed": true
   },
   "source": [
    "### Step 1: Find $\\alpha_z = f(\\kappa)$\n",
    "First we find the boundary of the reference models.\n",
    "The parametric formula for relative entropy is:\n",
    "\n",
    "$$ \\epsilon(M^R) = \\frac{1}{2}|\\sigma^{-1} \\begin{bmatrix} \\alpha_y - \\hat \\alpha_y \\\\ \\alpha_z - \\hat \\alpha_z \\end{bmatrix}|^2 + \\begin{bmatrix} \\beta - \\hat \\beta & \\hat \\kappa - \\kappa \\end{bmatrix} (\\sigma^{-1})'\\sigma^{-1} \\begin{bmatrix} \\alpha_y - \\hat \\alpha_y \\\\ \\alpha_z - \\hat \\alpha_z \\end{bmatrix} \\frac{\\alpha_z}{\\kappa} + \\frac{1}{2}|\\sigma^{-1} \\begin{bmatrix} \\beta - \\hat \\beta \\\\ \\hat \\kappa - \\kappa \\end{bmatrix}|^2(\\frac{|\\sigma_z|^2}{2\\kappa} + (\\frac{\\alpha_z}{\\kappa})^2) $$\n",
    "\n",
    "Letting $\\alpha_y = \\hat \\alpha_y$ and $\\beta = \\hat \\beta = 1$, and setting equal to the boundary, we have:\n",
    "\n",
    "$$ \\epsilon(M^R) = \\frac{1}{2}|\\sigma^{-1} \\begin{bmatrix} 0 \\\\ \\alpha_z - \\hat \\alpha_z \\end{bmatrix}|^2 + \\begin{bmatrix} 0 & \\hat \\kappa - \\kappa \\end{bmatrix} (\\sigma^{-1})'\\sigma^{-1} \\begin{bmatrix} 0 \\\\ \\alpha_z - \\hat \\alpha_z \\end{bmatrix} \\frac{\\alpha_z}{\\kappa} + \\frac{1}{2}|\\sigma^{-1} \\begin{bmatrix} 0 \\\\ \\hat \\kappa - \\kappa \\end{bmatrix}|^2(\\frac{|\\sigma_z|^2}{2\\kappa} + (\\frac{\\alpha_z}{\\kappa})^2) = \\frac{1}{2}q^2 $$\n",
    "\n",
    "For a given $\\kappa$ and q, we use SymPy to find the two values of $\\alpha_z$ that solve this equation, and then choose the smaller of the two: $\\alpha_z = f(k)$"
   ]
  },
  {
   "cell_type": "code",
   "execution_count": 5,
   "metadata": {
    "collapsed": true
   },
   "outputs": [],
   "source": [
    "#Function which finds alpha_z as a function of k\n",
    "\n",
    "def f(k):\n",
    "    #Create the vectors:\n",
    "    x = Symbol('x')\n",
    "    vec1 = Matrix([[0],[x-alpha_z]])\n",
    "    vec2 = Matrix([[0],[kappa-k]])\n",
    "\n",
    "    #Create the components of the equation to be solved for alpha_z\n",
    "    eq1 = 0.5*(Matrix(sigma).inv()*vec1)[1,0]**2 #using the [1,0] element squared otherwise there is an issue with Abs(x)\n",
    "    eq2 = vec2.T*Matrix(sigma).inv().T*Matrix(sigma).inv()*vec1*x/k\n",
    "    eq3 = 0.5*((Matrix(sigma).inv()*vec2).norm()**2)*((Matrix(sigma_z).norm()**2)/(2*k)+(alpha_z/k)**2)\n",
    "\n",
    "    eq = eq1 + eq2[0,0] + eq3 - 0.5*q**2\n",
    "\n",
    "    return np.min(solve(eq,x))"
   ]
  },
  {
   "cell_type": "code",
   "execution_count": 17,
   "metadata": {
    "collapsed": false
   },
   "outputs": [
    {
     "data": {
      "text/plain": [
       "-0.00146673295304754"
      ]
     },
     "execution_count": 17,
     "metadata": {},
     "output_type": "execute_result"
    }
   ],
   "source": [
    "f(0.02)"
   ]
  },
  {
   "cell_type": "markdown",
   "metadata": {},
   "source": [
    "### Step 2: Find $\\mu_z^*(z)$\n",
    "\n",
    "The next step is to minimize $f(\\kappa) - z\\kappa$ to find the worst-case reference model $\\mu_z^*(z)$.\n",
    "\n",
    "To do this, I have had to manually work out the bounds over which f(k) is well-defined. \n",
    "\n",
    "These bounds depend on q so this is not ideal, I want to find a way to automate."
   ]
  },
  {
   "cell_type": "code",
   "execution_count": 7,
   "metadata": {
    "collapsed": false
   },
   "outputs": [],
   "source": [
    "def mu(z):\n",
    "    g = lambda k: f(k) - k*z\n",
    "    k_star = minimize(g,x0=0.02,bounds=((0.0119802,0.03013),)).x[0] #I had to put those bounds on to ensure real solutions\n",
    "    return f(k_star) - z*k_star"
   ]
  },
  {
   "cell_type": "markdown",
   "metadata": {},
   "source": [
    "### Step 3: Use $\\mu_z^*(z)$ to solve the  HJB equation to find $v(\\theta,z)$\n",
    "\n",
    "The HJB equation is:\n",
    "\n",
    "$$ 0 = -\\delta v(z) + 0.01(\\hat \\alpha_y + z) + \\mu_z^*(z) \\frac{dv}{dz}(z) + \\frac{1}{2}|\\sigma_z|^2 \\frac{d^2v}{dz^2}(z) - \\frac{1}{2\\theta} \\begin{bmatrix} 0.01 \\, \\frac{dv}{dz}(z) \\end{bmatrix} \\sigma \\sigma' \\begin{bmatrix} 0.01 \\\\ \\frac{dv}{dz}(z) \\end{bmatrix} $$\n",
    "\n",
    "We want to solve this HJB numerically for a range of z (and $\\theta$) values.\n",
    "\n",
    "To solve this HJB, for a given $\\theta$, we use a \"finite difference method\" (see [Ben Moll's website](http://www.princeton.edu/~moll/HACTproject/HACT_Additional_Codes.pdf)), with the following algorithm:\n",
    "1. Create a grid for z\n",
    "2. Guess v(z) for each z\n",
    "3. Approximate v'(z) and v''(z)\n",
    "4. Update v(z) using\n",
    "$$ \\frac{v^{n+1}(z) - v^n(z)}{\\Delta} = -\\delta v^n(z) + 0.01(\\hat \\alpha_y + z) + \\mu_z^*(z) \\frac{dv^n}{dz}(z) + \\frac{1}{2}|\\sigma_z|^2 \\frac{d^2v^n}{dz^2}(z) - \\frac{1}{2\\theta} \\begin{bmatrix} 0.01 \\, \\frac{dv^n}{dz}(z) \\end{bmatrix} \\sigma \\sigma' \\begin{bmatrix} 0.01 \\\\ \\frac{dv^n}{dz}(z) \\end{bmatrix} $$\n",
    "5. If $v^{n+1}(z)-v^n(z)$ is small enough, stop. Otherwise, go back to step 3."
   ]
  },
  {
   "cell_type": "code",
   "execution_count": 8,
   "metadata": {
    "collapsed": false
   },
   "outputs": [],
   "source": [
    "# Set range for z and number of gridpoints\n",
    "zmin = -5\n",
    "zmax = 5\n",
    "gridsize = 200\n",
    "diff = (zmax - zmin)/gridsize\n",
    "z = np.arange(zmin,zmax, diff)"
   ]
  },
  {
   "cell_type": "code",
   "execution_count": 9,
   "metadata": {
    "collapsed": false
   },
   "outputs": [],
   "source": [
    "# Calculations to be used in the updating equation\n",
    "norm = Matrix(sigma_z).norm()**2\n",
    "mu_vec = np.zeros(shape=z.shape)\n",
    "for i in range(gridsize):\n",
    "    mu_vec[i] = mu(z[i])"
   ]
  },
  {
   "cell_type": "code",
   "execution_count": 12,
   "metadata": {
    "collapsed": false
   },
   "outputs": [],
   "source": [
    "#This uses central difference for derivatives, apart from at the boundaries of z.\n",
    "\n",
    "tol = 1e-6\n",
    "maxiter = 100000\n",
    "v = np.zeros(shape=z.shape)\n",
    "v1 = np.zeros(shape=z.shape)\n",
    "v2 = np.zeros(shape=z.shape)\n",
    "iteration = 0\n",
    "change = 1\n",
    "fail_msg = \"Convergence failed after {} iterations.\"\n",
    "\n",
    "while change > tol:\n",
    "    \n",
    "    if iteration > maxiter:\n",
    "        raise ValueError(fail_msg.format(iteration))\n",
    "    \n",
    "    else:\n",
    "        #Approximate derivatives\n",
    "        for i in range(1,gridsize-1):\n",
    "            v1[i] = (v[i+1]-v[i-1])/(2*diff)\n",
    "            v2[i] = (v[i+1]-2*v[i]+v[i-1])/(diff**2)\n",
    "        v1[0] = (v[1]-v[0])/diff\n",
    "        v1[gridsize-1] = (v[gridsize-1]-v[gridsize-2])/diff\n",
    "        v2[0] = v2[1]\n",
    "        v2[gridsize-1] = v2[gridsize-2]\n",
    "        v3 = np.zeros(shape=z.shape) \n",
    "        #Update v\n",
    "        for i in range(gridsize):\n",
    "            vector = np.hstack((0.01,v1[i]))\n",
    "            RHS = -delta*v[i] + 0.01*(alpha_y + z[i]) + mu_vec[i]*v1[i] + 0.5*v2[i]*norm - (1/(2*theta))*vector.dot(sigma).dot(sigma.T).dot(vector.T)\n",
    "            v3[i] = v[i] +  diff*RHS\n",
    "    \n",
    "        change = np.max(abs(v3-v))\n",
    "        v = v3\n",
    "        iteration +=1"
   ]
  },
  {
   "cell_type": "markdown",
   "metadata": {},
   "source": [
    "Here are plots of v(z), v'(z) and v''(z) for this solution:"
   ]
  },
  {
   "cell_type": "code",
   "execution_count": 13,
   "metadata": {
    "collapsed": false
   },
   "outputs": [
    {
     "data": {
      "text/plain": [
       "<matplotlib.text.Text at 0x112ca2898>"
      ]
     },
     "execution_count": 13,
     "metadata": {},
     "output_type": "execute_result"
    },
    {
     "data": {
      "image/png": "[encoded data removed]",
      "text/plain": [
       "<matplotlib.figure.Figure at 0x117789ef0>"
      ]
     },
     "metadata": {},
     "output_type": "display_data"
    }
   ],
   "source": [
    "plt.plot(z,v)\n",
    "plt.ylabel('v(z)')\n",
    "plt.xlabel('z')"
   ]
  },
  {
   "cell_type": "code",
   "execution_count": 14,
   "metadata": {
    "collapsed": false
   },
   "outputs": [
    {
     "data": {
      "text/plain": [
       "<matplotlib.text.Text at 0x1182a63c8>"
      ]
     },
     "execution_count": 14,
     "metadata": {},
     "output_type": "execute_result"
    },
    {
     "data": {
      "image/png": "[encoded data removed]",
      "text/plain": [
       "<matplotlib.figure.Figure at 0x1180e4048>"
      ]
     },
     "metadata": {},
     "output_type": "display_data"
    }
   ],
   "source": [
    "plt.plot(z,v1)\n",
    "plt.ylabel('dv/dz')\n",
    "plt.xlabel('z')"
   ]
  },
  {
   "cell_type": "code",
   "execution_count": 15,
   "metadata": {
    "collapsed": false
   },
   "outputs": [
    {
     "data": {
      "text/plain": [
       "<matplotlib.text.Text at 0x1182ad898>"
      ]
     },
     "execution_count": 15,
     "metadata": {},
     "output_type": "execute_result"
    },
    {
     "data": {
      "image/png": "[encoded data removed]",
      "text/plain": [
       "<matplotlib.figure.Figure at 0x1183090f0>"
      ]
     },
     "metadata": {},
     "output_type": "display_data"
    }
   ],
   "source": [
    "plt.plot(z,v2)\n",
    "plt.ylabel('d2v/dz2')\n",
    "plt.xlabel('z')"
   ]
  },
  {
   "cell_type": "code",
   "execution_count": 16,
   "metadata": {
    "collapsed": false
   },
   "outputs": [
    {
     "data": {
      "text/plain": [
       "48010"
      ]
     },
     "execution_count": 16,
     "metadata": {},
     "output_type": "execute_result"
    }
   ],
   "source": [
    "iteration"
   ]
  }
 ],
 "metadata": {
  "kernelspec": {
   "display_name": "Python 3",
   "language": "python",
   "name": "python3"
  },
  "language_info": {
   "codemirror_mode": {
    "name": "ipython",
    "version": 3
   },
   "file_extension": ".py",
   "mimetype": "text/x-python",
   "name": "python",
   "nbconvert_exporter": "python",
   "pygments_lexer": "ipython3",
   "version": "3.5.1"
  }
 },
 "nbformat": 4,
 "nbformat_minor": 0
}
