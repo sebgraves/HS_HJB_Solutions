{
 "cells": [
  {
   "cell_type": "markdown",
   "metadata": {},
   "source": [
    "# Solving the HJB equation on p26 of HS_notes_53"
   ]
  },
  {
   "cell_type": "code",
   "execution_count": 1,
   "metadata": {
    "collapsed": true
   },
   "outputs": [],
   "source": [
    "import numpy as np\n",
    "import matplotlib.pyplot as plt\n",
    "from sympy.matrices import *\n",
    "from sympy.solvers import solve\n",
    "from sympy import Symbol\n",
    "import scipy\n",
    "from scipy.optimize import fsolve\n",
    "from scipy.integrate import odeint\n",
    "from math import sqrt\n",
    "%matplotlib inline"
   ]
  },
  {
   "cell_type": "markdown",
   "metadata": {},
   "source": [
    "### 7.1 Parametric Inputs\n",
    "\n",
    "The VAR estimates imply:\n",
    "$$\\hat \\alpha_y = 0.386, \\hat \\alpha_z = 0, \\hat \\beta = 1, \\hat \\kappa = 0.019, \\sigma_y = \\begin{bmatrix} 0.488 \\\\ 0\\end{bmatrix}, \\sigma_z = \\begin{bmatrix} 0.013 \\\\ 0.028\\end{bmatrix}  $$\n",
    "We assume that $\\delta = 0.002$\n",
    "\n",
    "Let $\\sigma = \\begin{bmatrix} \\sigma_y' \\\\ \\sigma_z' \\end{bmatrix}$"
   ]
  },
  {
   "cell_type": "code",
   "execution_count": 2,
   "metadata": {
    "collapsed": true
   },
   "outputs": [],
   "source": [
    "# Predetermined parameter values\n",
    "alpha_y = 0.386\n",
    "alpha_z = 0\n",
    "beta = 1\n",
    "kappa = 0.019\n",
    "sigma_y = np.array([[0.488],[0]])\n",
    "sigma_z = np.array([[0.013],[0.028]])\n",
    "delta = 0.002\n",
    "sigma = np.vstack((sigma_y.T,sigma_z.T))\n",
    "\n",
    "# Useful objects\n",
    "sigmahat = np.linalg.inv(sigma).T.dot(np.linalg.inv(sigma))\n",
    "norm = Matrix(sigma_z).norm()**2\n",
    "sigma_det = np.linalg.det(sigmahat)"
   ]
  },
  {
   "cell_type": "markdown",
   "metadata": {},
   "source": [
    "We also need to choose a value for q and $\\theta$:"
   ]
  },
  {
   "cell_type": "code",
   "execution_count": 3,
   "metadata": {
    "collapsed": true
   },
   "outputs": [],
   "source": [
    "# Chosen parameter values\n",
    "q = 0.05\n",
    "theta = 0.1541"
   ]
  },
  {
   "cell_type": "markdown",
   "metadata": {},
   "source": [
    "### Step 1: Find $\\beta= f^-(\\kappa)$ and $\\beta = f^+(\\kappa)$\n",
    "\n",
    "Letting $\\alpha_y = \\hat \\alpha_y$ and $\\alpha_z = \\hat \\alpha_z$, the parametric formula for relative entropy is:\n",
    "\n",
    "$$ \\epsilon(M^R) = \\frac{1}{2}|\\sigma^{-1} \\begin{bmatrix} \\beta - \\hat \\beta \\\\ \\hat \\kappa - \\kappa \\end{bmatrix}|^2 \\frac{|\\sigma_z|^2}{2\\kappa}$$\n",
    "\n",
    "For a given $\\kappa$, setting this equal to $\\frac{1}{2}q^2$ gives a quadratic equation in $\\beta$. We take the high $\\beta$ solution when $\\kappa < \\hat \\kappa$ and the low $\\beta$ solution when $\\kappa > \\hat \\kappa$. We express this as two functions: $\\beta = f^-(\\kappa)$ for $\\kappa < \\hat \\kappa$ and $\\beta = f^+(\\kappa)$ for $\\kappa > \\hat \\kappa$.\n",
    "\n",
    "I have solved two ways. A slow way using Sympy, and a faster way using an analytic solution that Yiran showed me. I check that both methods give the same solutions"
   ]
  },
  {
   "cell_type": "code",
   "execution_count": 4,
   "metadata": {
    "collapsed": false
   },
   "outputs": [],
   "source": [
    "#Functions which find beta as a function of k using Sympy\n",
    "\n",
    "def f_minus(k):\n",
    "    #Create the vectors:\n",
    "    b = Symbol('b')\n",
    "    vec1 = Matrix([[b-beta],[kappa-k]])\n",
    "\n",
    "    #Create the components of the equation to be solved for beta\n",
    "    eq = ((Matrix(sigma_z).norm()**2)/(4*k))*((Matrix(sigma).inv()*vec1)[0]**2 + (Matrix(sigma).inv()*vec1)[1]**2) - 0.5*q**2\n",
    "\n",
    "    return solve(eq,b)[1]\n",
    "\n",
    "def f_plus(k):\n",
    "    #Create the vectors:\n",
    "    b = Symbol('b')\n",
    "    vec1 = Matrix([[b-beta],[kappa-k]])\n",
    "\n",
    "    #Create the components of the equation to be solved for beta\n",
    "    eq = ((Matrix(sigma_z).norm()**2)/(4*k))*((Matrix(sigma).inv()*vec1)[0]**2 + (Matrix(sigma).inv()*vec1)[1]**2) - 0.5*q**2\n",
    "\n",
    "    return solve(eq,b)[0]"
   ]
  },
  {
   "cell_type": "code",
   "execution_count": 5,
   "metadata": {
    "collapsed": true
   },
   "outputs": [],
   "source": [
    "# Yiran's analytic solution\n",
    "\n",
    "def f_minus2(k):\n",
    "    return beta + (-sigmahat[0,1]*(kappa-k)+sqrt(-(kappa-k)**2*sigma_det + (2*sigmahat[0,0]*q**2*k/norm)))/sigmahat[0,0]\n",
    "\n",
    "def f_plus2(k):\n",
    "    return beta + (-sigmahat[0,1]*(kappa-k)-sqrt(-(kappa-k)**2*sigma_det + (2*sigmahat[0,0]*q**2*k/norm)))/sigmahat[0,0]"
   ]
  },
  {
   "cell_type": "code",
   "execution_count": 6,
   "metadata": {
    "collapsed": false
   },
   "outputs": [
    {
     "data": {
      "text/plain": [
       "(-4.44089209850063e-16, 3.33066907387547e-16)"
      ]
     },
     "execution_count": 6,
     "metadata": {},
     "output_type": "execute_result"
    }
   ],
   "source": [
    "#Check that they are the same\n",
    "f_minus(0.03)-f_minus2(0.03),f_plus(0.03)-f_plus2(0.03)"
   ]
  },
  {
   "cell_type": "markdown",
   "metadata": {},
   "source": [
    "### Step 2: Find $v^-$ and $v^+$\n",
    "\n",
    "We solve three equations in three unknowns:\n",
    "$$ (-\\delta - \\kappa)v^- + 0.01\\beta = 0 $$\n",
    "$$ \\beta - f^-(\\kappa) = 0 $$\n",
    "$$ 0.01 \\frac{df^-}{d\\kappa}(\\kappa) - v^- = 0 $$\n",
    "\n",
    "Substituting gives an equation which is just a function of $\\kappa$:\n",
    "\n",
    "$$ (-\\delta - \\kappa)\\frac{df^-}{d\\kappa}(\\kappa) + f^-(\\kappa) = 0$$\n",
    "\n",
    "We use the Brentq algorithm to find the value of $\\kappa$ that satisfies this equation, and then calculate $v^-$ using the third equation.\n",
    "\n",
    "Analogously, to calculate $v^+$ we use:\n",
    "$$ (-\\delta - \\kappa)\\frac{df^+}{d\\kappa}(\\kappa) + f^+(\\kappa) = 0$$\n",
    "and $$ 0.01 \\frac{df^+}{d\\kappa}(\\kappa) - v^+ = 0 $$"
   ]
  },
  {
   "cell_type": "code",
   "execution_count": 7,
   "metadata": {
    "collapsed": true
   },
   "outputs": [],
   "source": [
    "def tosolve1(k):\n",
    "    return f_minus2(k) -(delta+k)*scipy.misc.derivative(f_minus2, k, dx = 0.000001)\n",
    "def tosolve2(k):\n",
    "    return f_plus2(k) -(delta+k)*scipy.misc.derivative(f_plus2, k, dx = 0.000001)"
   ]
  },
  {
   "cell_type": "markdown",
   "metadata": {},
   "source": [
    "For Scipy's brentq algorithm you need to specify a value where the function is positive and one where it is negative - they Scipy finds one in the middle which set the function equal to zero.\n",
    "\n",
    "To implement this, I manually find the domain of the $f^-(\\kappa)$ function (which is the same as for the $f^+(\\kappa)$ function):"
   ]
  },
  {
   "cell_type": "code",
   "execution_count": 8,
   "metadata": {
    "collapsed": false
   },
   "outputs": [
    {
     "data": {
      "text/plain": [
       "1.0659567853329261"
      ]
     },
     "execution_count": 8,
     "metadata": {},
     "output_type": "execute_result"
    }
   ],
   "source": [
    "f_minus2(0.0115)"
   ]
  },
  {
   "cell_type": "code",
   "execution_count": 9,
   "metadata": {
    "collapsed": false
   },
   "outputs": [
    {
     "ename": "ValueError",
     "evalue": "math domain error",
     "output_type": "error",
     "traceback": [
      "\u001b[0;31m---------------------------------------------------------------------------\u001b[0m",
      "\u001b[0;31mValueError\u001b[0m                                Traceback (most recent call last)",
      "\u001b[0;32m<ipython-input-9-a643013c5937>\u001b[0m in \u001b[0;36m<module>\u001b[0;34m()\u001b[0m\n\u001b[0;32m----> 1\u001b[0;31m \u001b[0mf_minus2\u001b[0m\u001b[0;34m(\u001b[0m\u001b[0;36m0.0114\u001b[0m\u001b[0;34m)\u001b[0m\u001b[0;34m\u001b[0m\u001b[0m\n\u001b[0m",
      "\u001b[0;32m<ipython-input-5-5ff96d155b00>\u001b[0m in \u001b[0;36mf_minus2\u001b[0;34m(k)\u001b[0m\n\u001b[1;32m      2\u001b[0m \u001b[0;34m\u001b[0m\u001b[0m\n\u001b[1;32m      3\u001b[0m \u001b[0;32mdef\u001b[0m \u001b[0mf_minus2\u001b[0m\u001b[0;34m(\u001b[0m\u001b[0mk\u001b[0m\u001b[0;34m)\u001b[0m\u001b[0;34m:\u001b[0m\u001b[0;34m\u001b[0m\u001b[0m\n\u001b[0;32m----> 4\u001b[0;31m     \u001b[0;32mreturn\u001b[0m \u001b[0mbeta\u001b[0m \u001b[0;34m+\u001b[0m \u001b[0;34m(\u001b[0m\u001b[0;34m-\u001b[0m\u001b[0msigmahat\u001b[0m\u001b[0;34m[\u001b[0m\u001b[0;36m0\u001b[0m\u001b[0;34m,\u001b[0m\u001b[0;36m1\u001b[0m\u001b[0;34m]\u001b[0m\u001b[0;34m*\u001b[0m\u001b[0;34m(\u001b[0m\u001b[0mkappa\u001b[0m\u001b[0;34m-\u001b[0m\u001b[0mk\u001b[0m\u001b[0;34m)\u001b[0m\u001b[0;34m+\u001b[0m\u001b[0msqrt\u001b[0m\u001b[0;34m(\u001b[0m\u001b[0;34m-\u001b[0m\u001b[0;34m(\u001b[0m\u001b[0mkappa\u001b[0m\u001b[0;34m-\u001b[0m\u001b[0mk\u001b[0m\u001b[0;34m)\u001b[0m\u001b[0;34m**\u001b[0m\u001b[0;36m2\u001b[0m\u001b[0;34m*\u001b[0m\u001b[0msigma_det\u001b[0m \u001b[0;34m+\u001b[0m \u001b[0;34m(\u001b[0m\u001b[0;36m2\u001b[0m\u001b[0;34m*\u001b[0m\u001b[0msigmahat\u001b[0m\u001b[0;34m[\u001b[0m\u001b[0;36m0\u001b[0m\u001b[0;34m,\u001b[0m\u001b[0;36m0\u001b[0m\u001b[0;34m]\u001b[0m\u001b[0;34m*\u001b[0m\u001b[0mq\u001b[0m\u001b[0;34m**\u001b[0m\u001b[0;36m2\u001b[0m\u001b[0;34m*\u001b[0m\u001b[0mk\u001b[0m\u001b[0;34m/\u001b[0m\u001b[0mnorm\u001b[0m\u001b[0;34m)\u001b[0m\u001b[0;34m)\u001b[0m\u001b[0;34m)\u001b[0m\u001b[0;34m/\u001b[0m\u001b[0msigmahat\u001b[0m\u001b[0;34m[\u001b[0m\u001b[0;36m0\u001b[0m\u001b[0;34m,\u001b[0m\u001b[0;36m0\u001b[0m\u001b[0;34m]\u001b[0m\u001b[0;34m\u001b[0m\u001b[0m\n\u001b[0m\u001b[1;32m      5\u001b[0m \u001b[0;34m\u001b[0m\u001b[0m\n\u001b[1;32m      6\u001b[0m \u001b[0;32mdef\u001b[0m \u001b[0mf_plus2\u001b[0m\u001b[0;34m(\u001b[0m\u001b[0mk\u001b[0m\u001b[0;34m)\u001b[0m\u001b[0;34m:\u001b[0m\u001b[0;34m\u001b[0m\u001b[0m\n",
      "\u001b[0;31mValueError\u001b[0m: math domain error"
     ]
    }
   ],
   "source": [
    "f_minus2(0.0114)"
   ]
  },
  {
   "cell_type": "code",
   "execution_count": 10,
   "metadata": {
    "collapsed": false
   },
   "outputs": [
    {
     "data": {
      "text/plain": [
       "0.93281932468234929"
      ]
     },
     "execution_count": 10,
     "metadata": {},
     "output_type": "execute_result"
    }
   ],
   "source": [
    "f_minus2(0.0315)"
   ]
  },
  {
   "cell_type": "code",
   "execution_count": 11,
   "metadata": {
    "collapsed": false
   },
   "outputs": [
    {
     "ename": "ValueError",
     "evalue": "math domain error",
     "output_type": "error",
     "traceback": [
      "\u001b[0;31m---------------------------------------------------------------------------\u001b[0m",
      "\u001b[0;31mValueError\u001b[0m                                Traceback (most recent call last)",
      "\u001b[0;32m<ipython-input-11-19e89e301866>\u001b[0m in \u001b[0;36m<module>\u001b[0;34m()\u001b[0m\n\u001b[0;32m----> 1\u001b[0;31m \u001b[0mf_minus2\u001b[0m\u001b[0;34m(\u001b[0m\u001b[0;36m0.0316\u001b[0m\u001b[0;34m)\u001b[0m\u001b[0;34m\u001b[0m\u001b[0m\n\u001b[0m",
      "\u001b[0;32m<ipython-input-5-5ff96d155b00>\u001b[0m in \u001b[0;36mf_minus2\u001b[0;34m(k)\u001b[0m\n\u001b[1;32m      2\u001b[0m \u001b[0;34m\u001b[0m\u001b[0m\n\u001b[1;32m      3\u001b[0m \u001b[0;32mdef\u001b[0m \u001b[0mf_minus2\u001b[0m\u001b[0;34m(\u001b[0m\u001b[0mk\u001b[0m\u001b[0;34m)\u001b[0m\u001b[0;34m:\u001b[0m\u001b[0;34m\u001b[0m\u001b[0m\n\u001b[0;32m----> 4\u001b[0;31m     \u001b[0;32mreturn\u001b[0m \u001b[0mbeta\u001b[0m \u001b[0;34m+\u001b[0m \u001b[0;34m(\u001b[0m\u001b[0;34m-\u001b[0m\u001b[0msigmahat\u001b[0m\u001b[0;34m[\u001b[0m\u001b[0;36m0\u001b[0m\u001b[0;34m,\u001b[0m\u001b[0;36m1\u001b[0m\u001b[0;34m]\u001b[0m\u001b[0;34m*\u001b[0m\u001b[0;34m(\u001b[0m\u001b[0mkappa\u001b[0m\u001b[0;34m-\u001b[0m\u001b[0mk\u001b[0m\u001b[0;34m)\u001b[0m\u001b[0;34m+\u001b[0m\u001b[0msqrt\u001b[0m\u001b[0;34m(\u001b[0m\u001b[0;34m-\u001b[0m\u001b[0;34m(\u001b[0m\u001b[0mkappa\u001b[0m\u001b[0;34m-\u001b[0m\u001b[0mk\u001b[0m\u001b[0;34m)\u001b[0m\u001b[0;34m**\u001b[0m\u001b[0;36m2\u001b[0m\u001b[0;34m*\u001b[0m\u001b[0msigma_det\u001b[0m \u001b[0;34m+\u001b[0m \u001b[0;34m(\u001b[0m\u001b[0;36m2\u001b[0m\u001b[0;34m*\u001b[0m\u001b[0msigmahat\u001b[0m\u001b[0;34m[\u001b[0m\u001b[0;36m0\u001b[0m\u001b[0;34m,\u001b[0m\u001b[0;36m0\u001b[0m\u001b[0;34m]\u001b[0m\u001b[0;34m*\u001b[0m\u001b[0mq\u001b[0m\u001b[0;34m**\u001b[0m\u001b[0;36m2\u001b[0m\u001b[0;34m*\u001b[0m\u001b[0mk\u001b[0m\u001b[0;34m/\u001b[0m\u001b[0mnorm\u001b[0m\u001b[0;34m)\u001b[0m\u001b[0;34m)\u001b[0m\u001b[0;34m)\u001b[0m\u001b[0;34m/\u001b[0m\u001b[0msigmahat\u001b[0m\u001b[0;34m[\u001b[0m\u001b[0;36m0\u001b[0m\u001b[0;34m,\u001b[0m\u001b[0;36m0\u001b[0m\u001b[0;34m]\u001b[0m\u001b[0;34m\u001b[0m\u001b[0m\n\u001b[0m\u001b[1;32m      5\u001b[0m \u001b[0;34m\u001b[0m\u001b[0m\n\u001b[1;32m      6\u001b[0m \u001b[0;32mdef\u001b[0m \u001b[0mf_plus2\u001b[0m\u001b[0;34m(\u001b[0m\u001b[0mk\u001b[0m\u001b[0;34m)\u001b[0m\u001b[0;34m:\u001b[0m\u001b[0;34m\u001b[0m\u001b[0m\n",
      "\u001b[0;31mValueError\u001b[0m: math domain error"
     ]
    }
   ],
   "source": [
    "f_minus2(0.0316)"
   ]
  },
  {
   "cell_type": "markdown",
   "metadata": {},
   "source": [
    "We can then find $v^-$ and $v^+$:"
   ]
  },
  {
   "cell_type": "code",
   "execution_count": 12,
   "metadata": {
    "collapsed": false
   },
   "outputs": [],
   "source": [
    "v_minus = 0.01*scipy.misc.derivative(f_minus2, scipy.optimize.brentq(tosolve1,0.0115,0.0315), dx = 0.000001)\n",
    "v_plus = 0.01*scipy.misc.derivative(f_plus2, scipy.optimize.brentq(tosolve2,0.0115,0.0315), dx = 0.000001)"
   ]
  },
  {
   "cell_type": "code",
   "execution_count": 13,
   "metadata": {
    "collapsed": false
   },
   "outputs": [
    {
     "data": {
      "text/plain": [
       "(0.7905559431831134, 0.26411887303567916)"
      ]
     },
     "execution_count": 13,
     "metadata": {},
     "output_type": "execute_result"
    }
   ],
   "source": [
    "v_minus,v_plus"
   ]
  },
  {
   "cell_type": "markdown",
   "metadata": {},
   "source": [
    "### Step 3: Find $\\kappa$ as a function of $\\frac{dv}{dz}$\n",
    "\n",
    "To solve the ODEs, we need to know the value of $\\kappa$ which minimizes the HJB equation, for a given value of $\\frac{dv}{dz}(z)$ This value of $\\kappa$ satisfies:\n",
    "\n",
    "$$ 0.01\\frac{df^-}{d \\kappa}(\\kappa) - \\frac{dv}{dz}(z) = 0 $$ when z < 0 and\n",
    "$$ 0.01\\frac{df^+}{d \\kappa}(\\kappa) - \\frac{dv}{dz}(z) = 0 $$ when z > 0."
   ]
  },
  {
   "cell_type": "markdown",
   "metadata": {},
   "source": [
    "For this, I use an analytic solution that Yiran showed me. However, I also verify his method using a much slower root-finding method that I was using previously."
   ]
  },
  {
   "cell_type": "code",
   "execution_count": 14,
   "metadata": {
    "collapsed": false
   },
   "outputs": [],
   "source": [
    "# Yiran's analytic solution\n",
    "\n",
    "def k_star_minus(dv):\n",
    "    N = (sigmahat[0,0]*dv/0.01 - sigmahat[0,1])**2\n",
    "    A = sigma_det*(N + sigma_det)\n",
    "    B = -(2*sigmahat[0,0]*q**2)/norm*(N + sigma_det) - 2*kappa*sigma_det*(N + sigma_det)\n",
    "    C = sigma_det*(N + sigma_det)*kappa**2 + (sigmahat[0,0]**2)*(q**4)/(norm**2) + 2*sigmahat[0,0]*(q**2)*kappa*sigma_det/norm\n",
    "    return (-B - sqrt(B**2 - 4*A*C))/(2*A)\n",
    "\n",
    "def k_star_plus(dv):\n",
    "    N = (sigmahat[0,0]*dv/0.01 - sigmahat[0,1])**2\n",
    "    A = sigma_det*(N + sigma_det)\n",
    "    B = -(2*sigmahat[0,0]*q**2)/norm*(N + sigma_det) - 2*kappa*sigma_det*(N + sigma_det)\n",
    "    C = sigma_det*(N + sigma_det)*kappa**2 + (sigmahat[0,0]**2)*(q**4)/(norm**2) + 2*sigmahat[0,0]*(q**2)*kappa*sigma_det/norm\n",
    "    return (-B + sqrt(B**2 - 4*A*C))/(2*A)"
   ]
  },
  {
   "cell_type": "code",
   "execution_count": 15,
   "metadata": {
    "collapsed": false
   },
   "outputs": [],
   "source": [
    "#Root finding method to verify Yiran's algebra:\n",
    "\n",
    "def func1(k):\n",
    "        return 0.01*scipy.misc.derivative(f_minus, k, dx = 0.000001) - 0.3\n",
    "k_star1 = scipy.optimize.brentq(func1,0.0115,0.0315) #Reduce tol to speed up\n",
    "\n",
    "def func2(k):\n",
    "        return 0.01*scipy.misc.derivative(f_plus, k, dx = 0.000001) - 0.3\n",
    "k_star2 = scipy.optimize.brentq(func2,0.0115,0.0315) #Reduce tol to speed up"
   ]
  },
  {
   "cell_type": "code",
   "execution_count": 16,
   "metadata": {
    "collapsed": false
   },
   "outputs": [
    {
     "data": {
      "text/plain": [
       "(3.48728169605184e-10, -3.48720965298588e-10)"
      ]
     },
     "execution_count": 16,
     "metadata": {},
     "output_type": "execute_result"
    }
   ],
   "source": [
    "#Check that they are the same\n",
    "k_star1-k_star_minus(0.3), k_star2 - k_star_plus(0.3)"
   ]
  },
  {
   "cell_type": "markdown",
   "metadata": {},
   "source": [
    "### Step 4: Solve the two ODEs\n",
    "\n",
    "With this value of $\\kappa^*$ that minimizes the HJB equation, we can now solve the HJB equations:\n",
    "\n",
    "$$ 0 = -\\delta v(z) + 0.01(\\hat \\alpha_y + f^-(\\kappa^*)z) - z \\kappa^* \\frac{dv}{dz}(z) + \\frac{1}{2}|\\sigma_z|^2 \\frac{d^2v}{dz^2}(z) - \\frac{1}{2\\theta} \\begin{bmatrix} 0.01 \\, \\frac{dv}{dz}(z) \\end{bmatrix} \\sigma \\sigma' \\begin{bmatrix} 0.01 \\\\ \\frac{dv}{dz}(z) \\end{bmatrix} $$\n",
    "\n",
    "(there is an analogous equation for z > 0)\n",
    "\n",
    "To solve this ODE, we impose Neumann conditions, using the values of $v^-$ and $v^+$ found in Step 2.\n",
    "\n",
    "In particular, we set $v'(z^-) = v^-$ and $v'(z^+) = v^+$ where $z^-$ and $z^+$ are the lower and upper end of the grid which we solve v(z) over.\n",
    "\n",
    "We also impose that both ODEs give the same solutions for v(0) and v'(0).\n"
   ]
  },
  {
   "cell_type": "code",
   "execution_count": 17,
   "metadata": {
    "collapsed": false
   },
   "outputs": [],
   "source": [
    "# Grid over which to solve the two ODEs\n",
    "z_space1 = np.linspace(-5,0,200)\n",
    "z_space2 = np.linspace(5,0,200)"
   ]
  },
  {
   "cell_type": "markdown",
   "metadata": {},
   "source": [
    "To solve using Scipy, I need to convert the second-order ODE into a system of first-order ODEs. This is done below:"
   ]
  },
  {
   "cell_type": "code",
   "execution_count": 18,
   "metadata": {
    "collapsed": false
   },
   "outputs": [],
   "source": [
    "def deriv_minus(y, z):\n",
    "    f, phi = y\n",
    "    vec = np.hstack((0.01,phi))\n",
    "    return [phi, 2/norm*(delta*f - 0.01*(alpha_y + f_minus2(k_star_minus(phi))*z) + z*k_star_minus(phi)*phi + (1/(2*theta))*vec.dot(sigma).dot(sigma.T).dot(vec.T))]\n",
    "\n",
    "def deriv_plus(y, z):\n",
    "    f, phi = y\n",
    "    vec = np.hstack((0.01,phi))\n",
    "    return [phi, 2/norm*(delta*f - 0.01*(alpha_y + f_plus2(k_star_plus(phi))*z) + z*k_star_plus(phi)*phi + (1/(2*theta))*vec.dot(sigma).dot(sigma.T).dot(vec.T))]"
   ]
  },
  {
   "cell_type": "markdown",
   "metadata": {},
   "source": [
    "I then create a function which returns the difference between v(0) and v'(0) for each of the two ODEs. This is a function of a guess of $v(z^-)$ and $v(z^+)$:"
   ]
  },
  {
   "cell_type": "code",
   "execution_count": 19,
   "metadata": {
    "collapsed": true
   },
   "outputs": [],
   "source": [
    "# For a given guess of v at z- and z+, this returns the difference between each v(0) and each v'(0)\n",
    "def v_at_zero(a) :\n",
    "    sol1 = scipy.integrate.odeint(deriv_minus, [a[0], v_minus],z_space1)\n",
    "    sol2 = scipy.integrate.odeint(deriv_plus, [a[1], v_plus],z_space2)\n",
    "    return sol1[-1,0] - sol2[-1,0], sol1[-1,1] - sol2[-1,1]"
   ]
  },
  {
   "cell_type": "markdown",
   "metadata": {},
   "source": [
    "Using the above function, we can find the values of of $v(z^-)$ and $v(z^+)$ that make both ODEs match in terms of v(0) and v'(0):"
   ]
  },
  {
   "cell_type": "code",
   "execution_count": 20,
   "metadata": {
    "collapsed": false
   },
   "outputs": [],
   "source": [
    "# Find the initial conditions which make v(0) and v'(0) match\n",
    "# The initial guess must be well chosen, as there are values for which scipy.integrate.odeint returns an error\n",
    "a = scipy.optimize.root(v_at_zero, [-3.2,1.5] )"
   ]
  },
  {
   "cell_type": "code",
   "execution_count": 21,
   "metadata": {
    "collapsed": false
   },
   "outputs": [
    {
     "data": {
      "text/plain": [
       "(-3.1933998363540175, 2.2701770807652855)"
      ]
     },
     "execution_count": 21,
     "metadata": {},
     "output_type": "execute_result"
    }
   ],
   "source": [
    "a.x[0],a.x[1]"
   ]
  },
  {
   "cell_type": "markdown",
   "metadata": {},
   "source": [
    "Using the initial conditions that we found, we can then plot our solution of v(z) and $\\frac{dv}{dz}(z)$:"
   ]
  },
  {
   "cell_type": "code",
   "execution_count": 22,
   "metadata": {
    "collapsed": false
   },
   "outputs": [
    {
     "data": {
      "text/plain": [
       "<matplotlib.text.Text at 0x1123c34e0>"
      ]
     },
     "execution_count": 22,
     "metadata": {},
     "output_type": "execute_result"
    },
    {
     "data": {
      "image/png": "[encoded data removed]",
      "text/plain": [
       "<matplotlib.figure.Figure at 0x1134a7c88>"
      ]
     },
     "metadata": {},
     "output_type": "display_data"
    }
   ],
   "source": [
    "sol1 = scipy.integrate.odeint(deriv_minus, [a.x[0], v_minus],z_space1)\n",
    "sol2 = scipy.integrate.odeint(deriv_plus, [a.x[1], v_plus],z_space2)\n",
    "\n",
    "plt.plot(z_space1,sol1[:,0])\n",
    "plt.plot(z_space2,sol2[:,0])\n",
    "\n",
    "plt.ylabel('v(z)')\n",
    "plt.xlabel('z')"
   ]
  },
  {
   "cell_type": "code",
   "execution_count": 23,
   "metadata": {
    "collapsed": false
   },
   "outputs": [
    {
     "data": {
      "text/plain": [
       "<matplotlib.text.Text at 0x113d13e10>"
      ]
     },
     "execution_count": 23,
     "metadata": {},
     "output_type": "execute_result"
    },
    {
     "data": {
      "image/png": "[encoded data removed]",
      "text/plain": [
       "<matplotlib.figure.Figure at 0x1134a7518>"
      ]
     },
     "metadata": {},
     "output_type": "display_data"
    }
   ],
   "source": [
    "plt.plot(z_space1,sol1[:,1])\n",
    "plt.plot(z_space2,sol2[:,1])\n",
    "\n",
    "plt.ylabel('dv/dz')\n",
    "plt.xlabel('z')"
   ]
  },
  {
   "cell_type": "markdown",
   "metadata": {},
   "source": [
    "There is something a bit strange going on with dv/dz at the top end. However, it seems to be less of an issue the larger I make $z^+$ (it was a bigger jump with $z^+ = 2$). It also does not appear to affect the rest of the solution."
   ]
  }
 ],
 "metadata": {
  "kernelspec": {
   "display_name": "Python 3",
   "language": "python",
   "name": "python3"
  },
  "language_info": {
   "codemirror_mode": {
    "name": "ipython",
    "version": 3
   },
   "file_extension": ".py",
   "mimetype": "text/x-python",
   "name": "python",
   "nbconvert_exporter": "python",
   "pygments_lexer": "ipython3",
   "version": "3.5.1"
  }
 },
 "nbformat": 4,
 "nbformat_minor": 0
}
